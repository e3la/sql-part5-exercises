{
    "metadata": {
        "kernelspec": {
            "name": "SQL",
            "display_name": "SQL",
            "language": "sql"
        },
        "language_info": {
            "name": "sql",
            "version": ""
        }
    },
    "nbformat_minor": 2,
    "nbformat": 4,
    "cells": [
        {
            "cell_type": "markdown",
            "source": [
                "# Exercises: Creating, Updating, and Destroying Objects\n",
                "\n",
                "For the exercises, you will be working with objects and data you create. Before opening this notebook, make sure that you have set up the new connection to the server and that you have located the database and your schema.\n",
                "\n",
                "## Object Creation\n",
                "\n",
                "Before coding, think of three things you want to make. These could be coding projects, new recipes, or planned projects for a woodworking hobby. Brainstorm the appropriate column names and data types as well.\n",
                "\n",
                "Create a table under your schema called `planned_makes`."
            ],
            "metadata": {
                "azdata_cell_guid": "9d51c166-0c19-4f27-a422-2a6cf596bfb2"
            },
            "attachments": {}
        },
        {
            "cell_type": "code",
            "source": [
                "CREATE TABLE planned_makes (\r\n",
                "    project_id INT PRIMARY KEY IDENTITY (1, 1),\r\n",
                "    project_name VARCHAR (50) NOT NULL,\r\n",
                "    project_goal VARCHAR (500),\r\n",
                "    due_date DATETIME,\r\n",
                "    materials VARCHAR (500),\r\n",
                "    coconspiritors VARCHAR (50)\r\n",
                ");\r\n",
                "/*\r\n",
                "CREATE TABLE [database_name.][schema_name.]table_name (\r\n",
                "    pk_column data_type PRIMARY KEY,\r\n",
                "    column_1 data_type NOT NULL,\r\n",
                "    column_2 data_type,\r\n",
                "    ...,\r\n",
                "    table_constraints\r\n",
                ");\r\n",
                "\r\n",
                "CREATE TABLE sales.visits (\r\n",
                "    visit_id INT PRIMARY KEY IDENTITY (1, 1),\r\n",
                "    first_name VARCHAR (50) NOT NULL,\r\n",
                "    last_name VARCHAR (50) NOT NULL,\r\n",
                "    visited_at DATETIME,\r\n",
                "    phone VARCHAR(20),\r\n",
                "    store_id INT NOT NULL,\r\n",
                "    FOREIGN KEY (store_id) REFERENCES sales.stores (store_id)\r\n",
                ");\r\n",
                "*/"
            ],
            "metadata": {
                "azdata_cell_guid": "d9238911-6f81-4f01-980d-b584307effaf",
                "language": "sql",
                "tags": []
            },
            "outputs": [
                {
                    "output_type": "error",
                    "evalue": "Msg 2714, Level 16, State 6, Line 1\r\nThere is already an object named 'planned_makes' in the database.",
                    "ename": "",
                    "traceback": []
                },
                {
                    "output_type": "display_data",
                    "data": {
                        "text/html": "Total execution time: 00:00:00.033"
                    },
                    "metadata": {}
                }
            ],
            "execution_count": 16
        },
        {
            "cell_type": "markdown",
            "source": [
                "Add three rows to your table that are your planned makes."
            ],
            "metadata": {
                "azdata_cell_guid": "83cdf34d-8c4f-4fa1-a14e-77384b19d734"
            }
        },
        {
            "cell_type": "code",
            "source": [
                "SELECT *\r\n",
                "FROM helena.planned_makes;\r\n",
                "\r\n",
                "INSERT INTO helena.planned_makes (project_name, project_goal, due_date, materials, coconspiritors)\r\n",
                "VALUES ('shelving', 'new storage', '09/19/2023', 'wood', 'husband creature');\r\n",
                "\r\n",
                "INSERT INTO helena.planned_makes (project_name, project_goal, due_date, materials, coconspiritors)\r\n",
                "VALUES ('basement office', 'place of my own', '12/19/2023', 'desk and paint', 'handy man');\r\n",
                "\r\n",
                "INSERT INTO helena.planned_makes (project_name, project_goal, due_date, materials, coconspiritors)\r\n",
                "VALUES ('ebike', 'transportation for husband', '12/25/2023', 'ebike, lock and chain', 'husband creature');\r\n",
                "\r\n",
                "SELECT *\r\n",
                "FROM helena.planned_makes;"
            ],
            "metadata": {
                "azdata_cell_guid": "e7cff9cb-87ba-4c7b-98f2-eaf445e8719c",
                "language": "sql"
            },
            "outputs": [
                {
                    "output_type": "display_data",
                    "data": {
                        "text/html": "(0 rows affected)"
                    },
                    "metadata": {}
                },
                {
                    "output_type": "display_data",
                    "data": {
                        "text/html": "(1 row affected)"
                    },
                    "metadata": {}
                },
                {
                    "output_type": "display_data",
                    "data": {
                        "text/html": "(1 row affected)"
                    },
                    "metadata": {}
                },
                {
                    "output_type": "display_data",
                    "data": {
                        "text/html": "(1 row affected)"
                    },
                    "metadata": {}
                },
                {
                    "output_type": "display_data",
                    "data": {
                        "text/html": "(3 rows affected)"
                    },
                    "metadata": {}
                },
                {
                    "output_type": "display_data",
                    "data": {
                        "text/html": "Total execution time: 00:00:00.097"
                    },
                    "metadata": {}
                },
                {
                    "output_type": "execute_result",
                    "metadata": {},
                    "execution_count": 18,
                    "data": {
                        "application/vnd.dataresource+json": {
                            "schema": {
                                "fields": [
                                    {
                                        "name": "project_id"
                                    },
                                    {
                                        "name": "project_name"
                                    },
                                    {
                                        "name": "project_goal"
                                    },
                                    {
                                        "name": "due_date"
                                    },
                                    {
                                        "name": "materials"
                                    },
                                    {
                                        "name": "coconspiritors"
                                    }
                                ]
                            },
                            "data": []
                        },
                        "text/html": [
                            "<table>",
                            "<tr><th>project_id</th><th>project_name</th><th>project_goal</th><th>due_date</th><th>materials</th><th>coconspiritors</th></tr>",
                            "</table>"
                        ]
                    }
                },
                {
                    "output_type": "execute_result",
                    "metadata": {},
                    "execution_count": 18,
                    "data": {
                        "application/vnd.dataresource+json": {
                            "schema": {
                                "fields": [
                                    {
                                        "name": "project_id"
                                    },
                                    {
                                        "name": "project_name"
                                    },
                                    {
                                        "name": "project_goal"
                                    },
                                    {
                                        "name": "due_date"
                                    },
                                    {
                                        "name": "materials"
                                    },
                                    {
                                        "name": "coconspiritors"
                                    }
                                ]
                            },
                            "data": [
                                {
                                    "project_id": "7",
                                    "project_name": "shelving",
                                    "project_goal": "new storage",
                                    "due_date": "2023-09-19 00:00:00.000",
                                    "materials": "wood",
                                    "coconspiritors": "husband creature"
                                },
                                {
                                    "project_id": "8",
                                    "project_name": "basement office",
                                    "project_goal": "place of my own",
                                    "due_date": "2023-12-19 00:00:00.000",
                                    "materials": "desk and paint",
                                    "coconspiritors": "handy man"
                                },
                                {
                                    "project_id": "9",
                                    "project_name": "ebike",
                                    "project_goal": "transportation for husband",
                                    "due_date": "2023-12-25 00:00:00.000",
                                    "materials": "ebike, lock and chain",
                                    "coconspiritors": "husband creature"
                                }
                            ]
                        },
                        "text/html": [
                            "<table>",
                            "<tr><th>project_id</th><th>project_name</th><th>project_goal</th><th>due_date</th><th>materials</th><th>coconspiritors</th></tr>",
                            "<tr><td>7</td><td>shelving</td><td>new storage</td><td>2023-09-19 00:00:00.000</td><td>wood</td><td>husband creature</td></tr>",
                            "<tr><td>8</td><td>basement office</td><td>place of my own</td><td>2023-12-19 00:00:00.000</td><td>desk and paint</td><td>handy man</td></tr>",
                            "<tr><td>9</td><td>ebike</td><td>transportation for husband</td><td>2023-12-25 00:00:00.000</td><td>ebike, lock and chain</td><td>husband creature</td></tr>",
                            "</table>"
                        ]
                    }
                }
            ],
            "execution_count": 18
        },
        {
            "cell_type": "markdown",
            "source": [
                "## Update a Row\n",
                "\n",
                "Change different values in one of your three rows."
            ],
            "metadata": {
                "azdata_cell_guid": "4a39b8d4-ae97-4e09-8336-c5fc6a00d76c"
            },
            "attachments": {}
        },
        {
            "cell_type": "code",
            "source": [
                "UPDATE helena.planned_makes \r\n",
                "SET \r\n",
                "    project_name = 'e-bike'\r\n",
                "WHERE\r\n",
                "    project_id = 9;\r\n",
                "\r\n",
                "SELECT *\r\n",
                "FROM helena.planned_makes;"
            ],
            "metadata": {
                "azdata_cell_guid": "7409c695-9581-4ad8-b03a-574d2c4c87cb",
                "language": "sql"
            },
            "outputs": [
                {
                    "output_type": "display_data",
                    "data": {
                        "text/html": "(1 row affected)"
                    },
                    "metadata": {}
                },
                {
                    "output_type": "display_data",
                    "data": {
                        "text/html": "(3 rows affected)"
                    },
                    "metadata": {}
                },
                {
                    "output_type": "display_data",
                    "data": {
                        "text/html": "Total execution time: 00:00:00.075"
                    },
                    "metadata": {}
                },
                {
                    "output_type": "execute_result",
                    "metadata": {},
                    "execution_count": 19,
                    "data": {
                        "application/vnd.dataresource+json": {
                            "schema": {
                                "fields": [
                                    {
                                        "name": "project_id"
                                    },
                                    {
                                        "name": "project_name"
                                    },
                                    {
                                        "name": "project_goal"
                                    },
                                    {
                                        "name": "due_date"
                                    },
                                    {
                                        "name": "materials"
                                    },
                                    {
                                        "name": "coconspiritors"
                                    }
                                ]
                            },
                            "data": [
                                {
                                    "project_id": "7",
                                    "project_name": "shelving",
                                    "project_goal": "new storage",
                                    "due_date": "2023-09-19 00:00:00.000",
                                    "materials": "wood",
                                    "coconspiritors": "husband creature"
                                },
                                {
                                    "project_id": "8",
                                    "project_name": "basement office",
                                    "project_goal": "place of my own",
                                    "due_date": "2023-12-19 00:00:00.000",
                                    "materials": "desk and paint",
                                    "coconspiritors": "handy man"
                                },
                                {
                                    "project_id": "9",
                                    "project_name": "e-bike",
                                    "project_goal": "transportation for husband",
                                    "due_date": "2023-12-25 00:00:00.000",
                                    "materials": "ebike, lock and chain",
                                    "coconspiritors": "husband creature"
                                }
                            ]
                        },
                        "text/html": [
                            "<table>",
                            "<tr><th>project_id</th><th>project_name</th><th>project_goal</th><th>due_date</th><th>materials</th><th>coconspiritors</th></tr>",
                            "<tr><td>7</td><td>shelving</td><td>new storage</td><td>2023-09-19 00:00:00.000</td><td>wood</td><td>husband creature</td></tr>",
                            "<tr><td>8</td><td>basement office</td><td>place of my own</td><td>2023-12-19 00:00:00.000</td><td>desk and paint</td><td>handy man</td></tr>",
                            "<tr><td>9</td><td>e-bike</td><td>transportation for husband</td><td>2023-12-25 00:00:00.000</td><td>ebike, lock and chain</td><td>husband creature</td></tr>",
                            "</table>"
                        ]
                    }
                }
            ],
            "execution_count": 19
        },
        {
            "cell_type": "markdown",
            "source": [
                "## Delete a Row\n",
                "\n",
                "Delete one of the rows from your table."
            ],
            "metadata": {
                "azdata_cell_guid": "95e91a6e-9038-42d9-9401-5738842aba17"
            }
        },
        {
            "cell_type": "code",
            "source": [
                "DELETE FROM helena.planned_makes\r\n",
                "WHERE\r\n",
                "    project_name = 'basement office';\r\n",
                "\r\n",
                "SELECT *\r\n",
                "FROM helena.planned_makes;"
            ],
            "metadata": {
                "azdata_cell_guid": "749c748f-19b5-4c69-9004-b6b20216616a",
                "language": "sql"
            },
            "outputs": [
                {
                    "output_type": "display_data",
                    "data": {
                        "text/html": "(1 row affected)"
                    },
                    "metadata": {}
                },
                {
                    "output_type": "display_data",
                    "data": {
                        "text/html": "(2 rows affected)"
                    },
                    "metadata": {}
                },
                {
                    "output_type": "display_data",
                    "data": {
                        "text/html": "Total execution time: 00:00:00.070"
                    },
                    "metadata": {}
                },
                {
                    "output_type": "execute_result",
                    "metadata": {},
                    "execution_count": 20,
                    "data": {
                        "application/vnd.dataresource+json": {
                            "schema": {
                                "fields": [
                                    {
                                        "name": "project_id"
                                    },
                                    {
                                        "name": "project_name"
                                    },
                                    {
                                        "name": "project_goal"
                                    },
                                    {
                                        "name": "due_date"
                                    },
                                    {
                                        "name": "materials"
                                    },
                                    {
                                        "name": "coconspiritors"
                                    }
                                ]
                            },
                            "data": [
                                {
                                    "project_id": "7",
                                    "project_name": "shelving",
                                    "project_goal": "new storage",
                                    "due_date": "2023-09-19 00:00:00.000",
                                    "materials": "wood",
                                    "coconspiritors": "husband creature"
                                },
                                {
                                    "project_id": "9",
                                    "project_name": "e-bike",
                                    "project_goal": "transportation for husband",
                                    "due_date": "2023-12-25 00:00:00.000",
                                    "materials": "ebike, lock and chain",
                                    "coconspiritors": "husband creature"
                                }
                            ]
                        },
                        "text/html": [
                            "<table>",
                            "<tr><th>project_id</th><th>project_name</th><th>project_goal</th><th>due_date</th><th>materials</th><th>coconspiritors</th></tr>",
                            "<tr><td>7</td><td>shelving</td><td>new storage</td><td>2023-09-19 00:00:00.000</td><td>wood</td><td>husband creature</td></tr>",
                            "<tr><td>9</td><td>e-bike</td><td>transportation for husband</td><td>2023-12-25 00:00:00.000</td><td>ebike, lock and chain</td><td>husband creature</td></tr>",
                            "</table>"
                        ]
                    }
                }
            ],
            "execution_count": 20
        },
        {
            "cell_type": "markdown",
            "source": [
                "## Drop the Table\n",
                "\n",
                "While this has been fun, it is time to drop the table!"
            ],
            "metadata": {
                "azdata_cell_guid": "2239cb09-137b-4579-905b-1aa020793181"
            },
            "attachments": {}
        },
        {
            "cell_type": "code",
            "source": [
                "DROP TABLE helena.planned_makes;\r\n",
                "\r\n",
                "SELECT *\r\n",
                "FROM helena.planned_makes;"
            ],
            "metadata": {
                "azdata_cell_guid": "b3c7f6ea-ee26-46b3-9c2a-2f7a82c39699",
                "language": "sql"
            },
            "outputs": [
                {
                    "output_type": "error",
                    "evalue": "Msg 3701, Level 11, State 5, Line 1\r\nCannot drop the table 'helena.planned_makes', because it does not exist or you do not have permission.",
                    "ename": "",
                    "traceback": []
                },
                {
                    "output_type": "error",
                    "evalue": "Msg 208, Level 16, State 1, Line 3\r\nInvalid object name 'helena.planned_makes'.",
                    "ename": "",
                    "traceback": []
                },
                {
                    "output_type": "display_data",
                    "data": {
                        "text/html": "Total execution time: 00:00:00.031"
                    },
                    "metadata": {}
                }
            ],
            "execution_count": 22
        }
    ]
}